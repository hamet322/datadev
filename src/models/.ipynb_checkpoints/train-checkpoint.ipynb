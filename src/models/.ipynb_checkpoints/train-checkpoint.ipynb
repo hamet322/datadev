{
 "cells": [
  {
   "cell_type": "code",
   "execution_count": 6,
   "id": "21218613",
   "metadata": {},
   "outputs": [],
   "source": [
    "import pandas as pd\n",
    "import numpy as np\n",
    "import pickle \n",
    "import os\n",
    "from sklearn import linear_model"
   ]
  },
  {
   "cell_type": "code",
   "execution_count": 10,
   "id": "7e9cbb2b",
   "metadata": {},
   "outputs": [],
   "source": [
    "\n",
    "# Cargar la tabla transformada\n",
    "def read_file_csv(filename):\n",
    "    df = pd.read_csv(os.path.join('C:/Users/ecolg/Python/Proyecto Pandas/git practice/data/processed', filename)).set_index('ID')\n",
    "    X_train = df.drop(['Sales'],axis=1)\n",
    "    y_train = df[['Sales']]\n",
    "    print(filename, ' cargado correctamente')\n",
    "    # Entrenamos el modelo con toda la muestra\n",
    "    linear=linear_model.LinearRegression()\n",
    "    linear.fit(X_train, y_train)\n",
    "    print('Modelo entrenado')\n",
    "    # Guardamos el modelo entrenado para usarlo en produccion\n",
    "    package = 'C:/Users/ecolg/Python/Proyecto Pandas/git practice/models/best_model.pkl'\n",
    "    pickle.dump(linear, open(package, 'wb'))\n",
    "    print('Modelo exportado correctamente en la carpeta models')"
   ]
  },
  {
   "cell_type": "code",
   "execution_count": 11,
   "id": "5c1b3740",
   "metadata": {},
   "outputs": [],
   "source": [
    "\n",
    "# Entrenamiento completo\n",
    "def main():\n",
    "    read_file_csv('radio_train.csv')\n",
    "    print('Finalizó el entrenamiento del Modelo')"
   ]
  },
  {
   "cell_type": "code",
   "execution_count": 13,
   "id": "54d3a89c",
   "metadata": {},
   "outputs": [
    {
     "name": "stdout",
     "output_type": "stream",
     "text": [
      "radio_train.csv  cargado correctamente\n",
      "Modelo entrenado\n",
      "Modelo exportado correctamente en la carpeta models\n",
      "Finalizó el entrenamiento del Modelo\n"
     ]
    }
   ],
   "source": [
    "if __name__ == '__main__':\n",
    "    main()"
   ]
  },
  {
   "cell_type": "code",
   "execution_count": null,
   "id": "3fab2830",
   "metadata": {},
   "outputs": [],
   "source": []
  }
 ],
 "metadata": {
  "kernelspec": {
   "display_name": "Python 3 (ipykernel)",
   "language": "python",
   "name": "python3"
  },
  "language_info": {
   "codemirror_mode": {
    "name": "ipython",
    "version": 3
   },
   "file_extension": ".py",
   "mimetype": "text/x-python",
   "name": "python",
   "nbconvert_exporter": "python",
   "pygments_lexer": "ipython3",
   "version": "3.9.12"
  }
 },
 "nbformat": 4,
 "nbformat_minor": 5
}
