{
 "cells": [
  {
   "cell_type": "code",
   "execution_count": 2,
   "id": "99c75cb2",
   "metadata": {},
   "outputs": [],
   "source": [
    "import pandas as pd\n",
    "from sklearn import linear_model\n",
    "import pickle\n",
    "import matplotlib.pyplot as plt\n",
    "from sklearn.metrics import *\n",
    "import os"
   ]
  },
  {
   "cell_type": "code",
   "execution_count": 3,
   "id": "9c90af64",
   "metadata": {},
   "outputs": [],
   "source": [
    "# Cargar la tabla transformada\n",
    "def eval_model(filename):\n",
    "    df = pd.read_csv(os.path.join('../../data/processed', filename)).set_index('ID')\n",
    "    print(filename, ' cargado correctamente')\n",
    "    # Leemos el modelo entrenado para usarlo\n",
    "    package = '../../models/best_model.pkl'\n",
    "    model = pickle.load(open(package, 'rb'))\n",
    "    print('Modelo importado correctamente')\n",
    "    # Predecimos sobre el set de datos de validación \n",
    "    X_test = df.drop(['Sales'],axis=1)\n",
    "    y_test = df[['Sales']]\n",
    "    y_pred_test=model.predict(X_test)\n",
    "\n",
    "    #Coeficiente\n",
    "    model.coef_\n",
    "    #Erro medio cuadrado\n",
    "    print('Error medio cuadrado:', r2_score(y_test, y_pred_test))\n",
    "    "
   ]
  },
  {
   "cell_type": "code",
   "execution_count": 4,
   "id": "4b51896a",
   "metadata": {},
   "outputs": [],
   "source": [
    "# Validación desde el inicio\n",
    "def main():\n",
    "    df = eval_model('radio_val.csv')\n",
    "    print('Finalizó la validación del Modelo')"
   ]
  },
  {
   "cell_type": "code",
   "execution_count": 5,
   "id": "78332a9f",
   "metadata": {},
   "outputs": [
    {
     "name": "stdout",
     "output_type": "stream",
     "text": [
      "radio_val.csv  cargado correctamente\n",
      "Modelo importado correctamente\n",
      "Error medio cuadrado: 0.7860089213520718\n",
      "Finalizó la validación del Modelo\n"
     ]
    }
   ],
   "source": [
    "if __name__=='__main__':\n",
    "    main()"
   ]
  },
  {
   "cell_type": "code",
   "execution_count": null,
   "id": "6a771c7a",
   "metadata": {},
   "outputs": [],
   "source": []
  }
 ],
 "metadata": {
  "kernelspec": {
   "display_name": "Python 3 (ipykernel)",
   "language": "python",
   "name": "python3"
  },
  "language_info": {
   "codemirror_mode": {
    "name": "ipython",
    "version": 3
   },
   "file_extension": ".py",
   "mimetype": "text/x-python",
   "name": "python",
   "nbconvert_exporter": "python",
   "pygments_lexer": "ipython3",
   "version": "3.10.8"
  }
 },
 "nbformat": 4,
 "nbformat_minor": 5
}
