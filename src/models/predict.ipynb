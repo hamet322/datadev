{
 "cells": [
  {
   "cell_type": "code",
   "execution_count": 1,
   "id": "245d516b",
   "metadata": {},
   "outputs": [],
   "source": [
    "# Código de Scoring - Modelo de Riesgo de Default en un Banco de Corea\n",
    "############################################################################\n",
    "\n",
    "import pandas as pd\n",
    "from sklearn import linear_model\n",
    "import pickle\n",
    "import os"
   ]
  },
  {
   "cell_type": "code",
   "execution_count": 8,
   "id": "59995815",
   "metadata": {},
   "outputs": [],
   "source": [
    "# Cargar la tabla transformada\n",
    "def score_model(filename, scores):\n",
    "    df = pd.read_csv(os.path.join('C:/Users/ecolg/Python/Proyecto Pandas/git practice/data/processed', filename)).set_index('ID')\n",
    "    print(filename, ' cargado correctamente')\n",
    "    # Leemos el modelo entrenado para usarlo\n",
    "    package = 'C:/Users/ecolg/Python/Proyecto Pandas/git practice/models/best_model.pkl'\n",
    "    model = pickle.load(open(package, 'rb'))\n",
    "    print('Modelo importado correctamente')\n",
    "    # Predecimos sobre el set de datos de Scoring    \n",
    "    res = model.predict(df)\n",
    "    pred = pd.DataFrame(res, columns=['PREDICT'])\n",
    "    pred.to_csv(os.path.join('C:/Users/ecolg/Python/Proyecto Pandas/git practice/data/scores/', scores))\n",
    "    print(scores, 'exportado correctamente en la carpeta scores')\n"
   ]
  },
  {
   "cell_type": "code",
   "execution_count": 6,
   "id": "5fce372f",
   "metadata": {},
   "outputs": [],
   "source": [
    "# Scoring desde el inici\n",
    "def main():\n",
    "    df = score_model('radio_score.csv','final_score.csv')\n",
    "    print('Finalizó el Scoring del Modelo')"
   ]
  },
  {
   "cell_type": "code",
   "execution_count": 9,
   "id": "418ae1ce",
   "metadata": {},
   "outputs": [
    {
     "name": "stdout",
     "output_type": "stream",
     "text": [
      "radio_score.csv  cargado correctamente\n",
      "Modelo importado correctamente\n",
      "final_score.csv exportado correctamente en la carpeta scores\n",
      "Finalizó el Scoring del Modelo\n"
     ]
    }
   ],
   "source": [
    "if __name__==\"__main__\":\n",
    "    main()"
   ]
  },
  {
   "cell_type": "code",
   "execution_count": null,
   "id": "404a40dd",
   "metadata": {},
   "outputs": [],
   "source": []
  }
 ],
 "metadata": {
  "kernelspec": {
   "display_name": "Python 3 (ipykernel)",
   "language": "python",
   "name": "python3"
  },
  "language_info": {
   "codemirror_mode": {
    "name": "ipython",
    "version": 3
   },
   "file_extension": ".py",
   "mimetype": "text/x-python",
   "name": "python",
   "nbconvert_exporter": "python",
   "pygments_lexer": "ipython3",
   "version": "3.9.12"
  }
 },
 "nbformat": 4,
 "nbformat_minor": 5
}
