{
 "cells": [
  {
   "cell_type": "markdown",
   "id": "6a4d3207",
   "metadata": {},
   "source": [
    "En este script haremos la limpieza y transformación de datos y todos los arreglos necesarios antes de procesar los datos."
   ]
  },
  {
   "cell_type": "code",
   "execution_count": 3,
   "id": "ba01f33e",
   "metadata": {},
   "outputs": [],
   "source": [
    "#Importaos las librerias a usar\n",
    "import pandas as pd\n",
    "import numpy as np \n",
    "import os"
   ]
  },
  {
   "cell_type": "code",
   "execution_count": 31,
   "id": "0c4d37cc",
   "metadata": {},
   "outputs": [],
   "source": [
    "# Leemos el set de datos a transformar o limpiar\n",
    "def read_file_csv(filename):\n",
    "    df = pd.read_csv(os.path.join('C:/Users/ecolg/Python/Proyecto Pandas/git practice/data/raw/', filename)).set_index('ID')\n",
    "    print(filename, ' cargado correctamente')\n",
    "    return df"
   ]
  },
  {
   "cell_type": "code",
   "execution_count": 32,
   "id": "ee0eb3a0",
   "metadata": {},
   "outputs": [],
   "source": [
    "#Trasformamos los datos\n",
    "def data_preparation(df):\n",
    "    df = df[['TV','Sales']]\n",
    "    return df  "
   ]
  },
  {
   "cell_type": "code",
   "execution_count": 21,
   "id": "91186322",
   "metadata": {},
   "outputs": [],
   "source": [
    "# Exportamos la matriz de datos con las columnas seleccionadas\n",
    "def data_exporting(df, features, filename):\n",
    "    dfp = df[features]\n",
    "    dfp.to_csv(os.path.join('C:/Users/ecolg/Python/Proyecto Pandas/git practice/data/processed/', filename))\n",
    "    print(filename, 'exportado correctamente en la carpeta processed')"
   ]
  },
  {
   "cell_type": "code",
   "execution_count": 19,
   "id": "add1485a",
   "metadata": {},
   "outputs": [],
   "source": [
    "# Generamos las matrices de datos que se necesitan para la implementación\n",
    "\n",
    "def main():\n",
    "    # Matriz de Entrenamiento\n",
    "    df1 = read_file_csv('advertising.csv')\n",
    "    tdf1 = data_preparation(df1)\n",
    "    data_exporting(tdf1, ['TV', 'Sales'],'radio_train.csv')\n",
    "    \n",
    "    # Matriz de Validación\n",
    "    df2 = read_file_csv('advertising.csv')\n",
    "    tdf2 = data_preparation(df2)\n",
    "    data_exporting(tdf2,['TV','Sales'],'radio_val.csv')\n",
    "    \n",
    "    # Matriz de Scoring\n",
    "    df3 = read_file_csv('advertising.csv')\n",
    "    tdf3 = data_preparation(df3)\n",
    "    data_exporting(tdf3, ['TV','Sales'],'radio_score.csv')\n"
   ]
  },
  {
   "cell_type": "code",
   "execution_count": 33,
   "id": "405d8b92",
   "metadata": {},
   "outputs": [
    {
     "name": "stdout",
     "output_type": "stream",
     "text": [
      "advertising.csv  cargado correctamente\n",
      "radio_train.csv exportado correctamente en la carpeta processed\n",
      "advertising.csv  cargado correctamente\n",
      "radio_val.csv exportado correctamente en la carpeta processed\n",
      "advertising.csv  cargado correctamente\n",
      "radio_score.csv exportado correctamente en la carpeta processed\n"
     ]
    }
   ],
   "source": [
    "if __name__ == \"__main__\":\n",
    "    main()"
   ]
  },
  {
   "cell_type": "code",
   "execution_count": null,
   "id": "a49cbdcf",
   "metadata": {},
   "outputs": [],
   "source": []
  }
 ],
 "metadata": {
  "kernelspec": {
   "display_name": "Python 3 (ipykernel)",
   "language": "python",
   "name": "python3"
  },
  "language_info": {
   "codemirror_mode": {
    "name": "ipython",
    "version": 3
   },
   "file_extension": ".py",
   "mimetype": "text/x-python",
   "name": "python",
   "nbconvert_exporter": "python",
   "pygments_lexer": "ipython3",
   "version": "3.9.12"
  }
 },
 "nbformat": 4,
 "nbformat_minor": 5
}
